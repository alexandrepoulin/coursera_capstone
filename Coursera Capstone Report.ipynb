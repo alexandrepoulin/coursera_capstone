{
    "cells": [
        {
            "cell_type": "markdown",
            "metadata": {
                "collapsed": true
            },
            "source": "<center> \n<h1> IBM Data Science</h1>\n\n<h2> Capstone Project</h2>\n\n<h4> Alexandre Poulin</h4>\n</center>  \n    \n## Introduction\n\nSo far in the capstone project class excersizes, we have been clustering neighbourhoods based on similarities of various businesses in different neighbourhood. This can be useful if you live in a neighbourhood and want to move to a neighbourhood, or if you are a business owner and want to see what parts of a city has similar businesses to each other. The goal of this project will be again to group neighbourhoods, but this time with the goal of finding groups of neighbourhoods which appeal to the same demographic. This has a few uses:\n\n<ul>\n    <li> Someone who is looking to move may be interested in finding an area near them which are popular amung others who share a demographic. This can <it> improve </it> their overall happiness as opposed to finding similar neighbourhoods to where they already were. </li>\n    <li> A business which may have a target demographic may want to know which neighbourhoods are already popular amung those demographics.</li>\n</ul>\n\nAnother goal of this project is to see if there are any trends between the type of venues and the demographics. This can be interesting for a few reasonse:\n<ul>\n    <li> Business owners would like to know who their audience are so that they can focus more on a particular group</li>\n    <li> Maybe a particular neighbourhood is popular to a particular group only because it has a high density of a particular type of buissness which is primarily enjoyed only by a single demographic. </li>\n</ul>\n\nBecause it would be interesting for me based on where I live, the city which will be analysed will be Ottawa, Canada.\n\n\n## Data acquisition\n\nTo complete this project, we will use an open source GEOJSON file (https://gist.githubusercontent.com/mattleduc/10549018/raw/b76778e347fde6ae7cbec2066be1dcb8119aa93e/ons.geojson) which contains data on the outline of each neighbourhood, as well as demographic information on the population there. We can also use the location data to acquire data from Foursquare for the venues in the neighbourhoods, and find the stats of the venues. This contains demographic and timing information of the people checking into the venues. Using both of these data sets together, we can extract trends to b\n"
        },
        {
            "cell_type": "code",
            "execution_count": null,
            "metadata": {},
            "outputs": [],
            "source": ""
        }
    ],
    "metadata": {
        "kernelspec": {
            "display_name": "Python 3.6",
            "language": "python",
            "name": "python3"
        },
        "language_info": {
            "codemirror_mode": {
                "name": "ipython",
                "version": 3
            },
            "file_extension": ".py",
            "mimetype": "text/x-python",
            "name": "python",
            "nbconvert_exporter": "python",
            "pygments_lexer": "ipython3",
            "version": "3.6.8"
        }
    },
    "nbformat": 4,
    "nbformat_minor": 1
}